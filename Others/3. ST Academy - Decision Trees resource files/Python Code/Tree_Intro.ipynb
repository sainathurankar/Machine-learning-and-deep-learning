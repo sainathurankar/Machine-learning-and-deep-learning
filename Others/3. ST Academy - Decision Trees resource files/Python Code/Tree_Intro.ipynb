{
 "cells": [
  {
   "cell_type": "code",
   "execution_count": 1,
   "metadata": {},
   "outputs": [],
   "source": [
    "import numpy as np\n",
    "import pandas as pd\n",
    "import seaborn as sns\n",
    "import matplotlib.pyplot as plt"
   ]
  },
  {
   "cell_type": "code",
   "execution_count": 2,
   "metadata": {},
   "outputs": [],
   "source": [
    "df = pd.read_csv('C://Users//hp//Desktop//Machine learning and deep learning//Data Files//3. ST Academy - Decision Trees resource files//Movie_regression.csv', header = 0)"
   ]
  },
  {
   "cell_type": "code",
   "execution_count": 3,
   "metadata": {},
   "outputs": [
    {
     "name": "stdout",
     "output_type": "stream",
     "text": [
      "<class 'pandas.core.frame.DataFrame'>\n",
      "RangeIndex: 506 entries, 0 to 505\n",
      "Data columns (total 18 columns):\n",
      " #   Column               Non-Null Count  Dtype  \n",
      "---  ------               --------------  -----  \n",
      " 0   Marketing expense    506 non-null    float64\n",
      " 1   Production expense   506 non-null    float64\n",
      " 2   Multiplex coverage   506 non-null    float64\n",
      " 3   Budget               506 non-null    float64\n",
      " 4   Movie_length         506 non-null    float64\n",
      " 5   Lead_ Actor_Rating   506 non-null    float64\n",
      " 6   Lead_Actress_rating  506 non-null    float64\n",
      " 7   Director_rating      506 non-null    float64\n",
      " 8   Producer_rating      506 non-null    float64\n",
      " 9   Critic_rating        506 non-null    float64\n",
      " 10  Trailer_views        506 non-null    int64  \n",
      " 11  3D_available         506 non-null    object \n",
      " 12  Time_taken           494 non-null    float64\n",
      " 13  Twitter_hastags      506 non-null    float64\n",
      " 14  Genre                506 non-null    object \n",
      " 15  Avg_age_actors       506 non-null    int64  \n",
      " 16  Num_multiplex        506 non-null    int64  \n",
      " 17  Collection           506 non-null    int64  \n",
      "dtypes: float64(12), int64(4), object(2)\n",
      "memory usage: 71.3+ KB\n"
     ]
    }
   ],
   "source": [
    "df.info()"
   ]
  },
  {
   "cell_type": "code",
   "execution_count": null,
   "metadata": {},
   "outputs": [],
   "source": []
  },
  {
   "cell_type": "markdown",
   "metadata": {},
   "source": [
    "### Missing Value Imputation"
   ]
  },
  {
   "cell_type": "code",
   "execution_count": 4,
   "metadata": {},
   "outputs": [],
   "source": [
    "df[\"Time_taken\"].fillna(value=df[\"Time_taken\"].mean(), inplace = True)"
   ]
  },
  {
   "cell_type": "code",
   "execution_count": null,
   "metadata": {},
   "outputs": [],
   "source": []
  },
  {
   "cell_type": "code",
   "execution_count": null,
   "metadata": {},
   "outputs": [],
   "source": []
  },
  {
   "cell_type": "markdown",
   "metadata": {},
   "source": [
    "### Dummy variable creation"
   ]
  },
  {
   "cell_type": "code",
   "execution_count": 5,
   "metadata": {},
   "outputs": [],
   "source": [
    "df = pd.get_dummies(df,columns = [\"3D_available\",\"Genre\"],drop_first = True)"
   ]
  },
  {
   "cell_type": "code",
   "execution_count": 6,
   "metadata": {},
   "outputs": [
    {
     "data": {
      "text/html": [
       "<div>\n",
       "<style scoped>\n",
       "    .dataframe tbody tr th:only-of-type {\n",
       "        vertical-align: middle;\n",
       "    }\n",
       "\n",
       "    .dataframe tbody tr th {\n",
       "        vertical-align: top;\n",
       "    }\n",
       "\n",
       "    .dataframe thead th {\n",
       "        text-align: right;\n",
       "    }\n",
       "</style>\n",
       "<table border=\"1\" class=\"dataframe\">\n",
       "  <thead>\n",
       "    <tr style=\"text-align: right;\">\n",
       "      <th></th>\n",
       "      <th>Marketing expense</th>\n",
       "      <th>Production expense</th>\n",
       "      <th>Multiplex coverage</th>\n",
       "      <th>Budget</th>\n",
       "      <th>Movie_length</th>\n",
       "      <th>Lead_ Actor_Rating</th>\n",
       "      <th>Lead_Actress_rating</th>\n",
       "      <th>Director_rating</th>\n",
       "      <th>Producer_rating</th>\n",
       "      <th>Critic_rating</th>\n",
       "      <th>Trailer_views</th>\n",
       "      <th>Time_taken</th>\n",
       "      <th>Twitter_hastags</th>\n",
       "      <th>Avg_age_actors</th>\n",
       "      <th>Num_multiplex</th>\n",
       "      <th>Collection</th>\n",
       "      <th>3D_available_YES</th>\n",
       "      <th>Genre_Comedy</th>\n",
       "      <th>Genre_Drama</th>\n",
       "      <th>Genre_Thriller</th>\n",
       "    </tr>\n",
       "  </thead>\n",
       "  <tbody>\n",
       "    <tr>\n",
       "      <th>0</th>\n",
       "      <td>20.1264</td>\n",
       "      <td>59.62</td>\n",
       "      <td>0.462</td>\n",
       "      <td>36524.125</td>\n",
       "      <td>138.7</td>\n",
       "      <td>7.825</td>\n",
       "      <td>8.095</td>\n",
       "      <td>7.910</td>\n",
       "      <td>7.995</td>\n",
       "      <td>7.94</td>\n",
       "      <td>527367</td>\n",
       "      <td>109.60</td>\n",
       "      <td>223.840</td>\n",
       "      <td>23</td>\n",
       "      <td>494</td>\n",
       "      <td>48000</td>\n",
       "      <td>1</td>\n",
       "      <td>0</td>\n",
       "      <td>0</td>\n",
       "      <td>1</td>\n",
       "    </tr>\n",
       "    <tr>\n",
       "      <th>1</th>\n",
       "      <td>20.5462</td>\n",
       "      <td>69.14</td>\n",
       "      <td>0.531</td>\n",
       "      <td>35668.655</td>\n",
       "      <td>152.4</td>\n",
       "      <td>7.505</td>\n",
       "      <td>7.650</td>\n",
       "      <td>7.440</td>\n",
       "      <td>7.470</td>\n",
       "      <td>7.44</td>\n",
       "      <td>494055</td>\n",
       "      <td>146.64</td>\n",
       "      <td>243.456</td>\n",
       "      <td>42</td>\n",
       "      <td>462</td>\n",
       "      <td>43200</td>\n",
       "      <td>0</td>\n",
       "      <td>0</td>\n",
       "      <td>1</td>\n",
       "      <td>0</td>\n",
       "    </tr>\n",
       "    <tr>\n",
       "      <th>2</th>\n",
       "      <td>20.5458</td>\n",
       "      <td>69.14</td>\n",
       "      <td>0.531</td>\n",
       "      <td>39912.675</td>\n",
       "      <td>134.6</td>\n",
       "      <td>7.485</td>\n",
       "      <td>7.570</td>\n",
       "      <td>7.495</td>\n",
       "      <td>7.515</td>\n",
       "      <td>7.44</td>\n",
       "      <td>547051</td>\n",
       "      <td>147.88</td>\n",
       "      <td>2022.400</td>\n",
       "      <td>38</td>\n",
       "      <td>458</td>\n",
       "      <td>69400</td>\n",
       "      <td>0</td>\n",
       "      <td>1</td>\n",
       "      <td>0</td>\n",
       "      <td>0</td>\n",
       "    </tr>\n",
       "    <tr>\n",
       "      <th>3</th>\n",
       "      <td>20.6474</td>\n",
       "      <td>59.36</td>\n",
       "      <td>0.542</td>\n",
       "      <td>38873.890</td>\n",
       "      <td>119.3</td>\n",
       "      <td>6.895</td>\n",
       "      <td>7.035</td>\n",
       "      <td>6.920</td>\n",
       "      <td>7.020</td>\n",
       "      <td>8.26</td>\n",
       "      <td>516279</td>\n",
       "      <td>185.36</td>\n",
       "      <td>225.344</td>\n",
       "      <td>45</td>\n",
       "      <td>472</td>\n",
       "      <td>66800</td>\n",
       "      <td>1</td>\n",
       "      <td>0</td>\n",
       "      <td>1</td>\n",
       "      <td>0</td>\n",
       "    </tr>\n",
       "    <tr>\n",
       "      <th>4</th>\n",
       "      <td>21.3810</td>\n",
       "      <td>59.36</td>\n",
       "      <td>0.542</td>\n",
       "      <td>39701.585</td>\n",
       "      <td>127.7</td>\n",
       "      <td>6.920</td>\n",
       "      <td>7.070</td>\n",
       "      <td>6.815</td>\n",
       "      <td>7.070</td>\n",
       "      <td>8.26</td>\n",
       "      <td>531448</td>\n",
       "      <td>176.48</td>\n",
       "      <td>225.792</td>\n",
       "      <td>55</td>\n",
       "      <td>395</td>\n",
       "      <td>72400</td>\n",
       "      <td>0</td>\n",
       "      <td>0</td>\n",
       "      <td>1</td>\n",
       "      <td>0</td>\n",
       "    </tr>\n",
       "  </tbody>\n",
       "</table>\n",
       "</div>"
      ],
      "text/plain": [
       "   Marketing expense  Production expense  Multiplex coverage     Budget  \\\n",
       "0            20.1264               59.62               0.462  36524.125   \n",
       "1            20.5462               69.14               0.531  35668.655   \n",
       "2            20.5458               69.14               0.531  39912.675   \n",
       "3            20.6474               59.36               0.542  38873.890   \n",
       "4            21.3810               59.36               0.542  39701.585   \n",
       "\n",
       "   Movie_length  Lead_ Actor_Rating  Lead_Actress_rating  Director_rating  \\\n",
       "0         138.7               7.825                8.095            7.910   \n",
       "1         152.4               7.505                7.650            7.440   \n",
       "2         134.6               7.485                7.570            7.495   \n",
       "3         119.3               6.895                7.035            6.920   \n",
       "4         127.7               6.920                7.070            6.815   \n",
       "\n",
       "   Producer_rating  Critic_rating  Trailer_views  Time_taken  Twitter_hastags  \\\n",
       "0            7.995           7.94         527367      109.60          223.840   \n",
       "1            7.470           7.44         494055      146.64          243.456   \n",
       "2            7.515           7.44         547051      147.88         2022.400   \n",
       "3            7.020           8.26         516279      185.36          225.344   \n",
       "4            7.070           8.26         531448      176.48          225.792   \n",
       "\n",
       "   Avg_age_actors  Num_multiplex  Collection  3D_available_YES  Genre_Comedy  \\\n",
       "0              23            494       48000                 1             0   \n",
       "1              42            462       43200                 0             0   \n",
       "2              38            458       69400                 0             1   \n",
       "3              45            472       66800                 1             0   \n",
       "4              55            395       72400                 0             0   \n",
       "\n",
       "   Genre_Drama  Genre_Thriller  \n",
       "0            0               1  \n",
       "1            1               0  \n",
       "2            0               0  \n",
       "3            1               0  \n",
       "4            1               0  "
      ]
     },
     "execution_count": 6,
     "metadata": {},
     "output_type": "execute_result"
    }
   ],
   "source": [
    "df.head()"
   ]
  },
  {
   "cell_type": "markdown",
   "metadata": {},
   "source": [
    "### X-y split"
   ]
  },
  {
   "cell_type": "code",
   "execution_count": 7,
   "metadata": {},
   "outputs": [
    {
     "data": {
      "text/plain": [
       "pandas.core.frame.DataFrame"
      ]
     },
     "execution_count": 7,
     "metadata": {},
     "output_type": "execute_result"
    }
   ],
   "source": [
    "X = df.loc[:,df.columns!=\"Collection\"]\n",
    "type(X)"
   ]
  },
  {
   "cell_type": "code",
   "execution_count": null,
   "metadata": {},
   "outputs": [],
   "source": []
  },
  {
   "cell_type": "code",
   "execution_count": null,
   "metadata": {},
   "outputs": [],
   "source": []
  },
  {
   "cell_type": "code",
   "execution_count": 8,
   "metadata": {},
   "outputs": [
    {
     "data": {
      "text/plain": [
       "pandas.core.series.Series"
      ]
     },
     "execution_count": 8,
     "metadata": {},
     "output_type": "execute_result"
    }
   ],
   "source": [
    "y = df[\"Collection\"]\n",
    "type(y)"
   ]
  },
  {
   "cell_type": "code",
   "execution_count": null,
   "metadata": {},
   "outputs": [],
   "source": []
  },
  {
   "cell_type": "code",
   "execution_count": null,
   "metadata": {},
   "outputs": [],
   "source": []
  },
  {
   "cell_type": "markdown",
   "metadata": {},
   "source": [
    "### Test-Train Split"
   ]
  },
  {
   "cell_type": "code",
   "execution_count": 9,
   "metadata": {},
   "outputs": [],
   "source": [
    "from sklearn.model_selection import train_test_split"
   ]
  },
  {
   "cell_type": "code",
   "execution_count": 10,
   "metadata": {},
   "outputs": [],
   "source": [
    "X_train, X_test, y_train, y_test = train_test_split(X, y,test_size=0.2,random_state=0)"
   ]
  },
  {
   "cell_type": "code",
   "execution_count": null,
   "metadata": {},
   "outputs": [],
   "source": []
  },
  {
   "cell_type": "markdown",
   "metadata": {},
   "source": [
    "### Traing Regression Tree"
   ]
  },
  {
   "cell_type": "code",
   "execution_count": 11,
   "metadata": {},
   "outputs": [],
   "source": [
    "from sklearn import tree\n",
    "regtree = tree.DecisionTreeRegressor(max_depth = 3)"
   ]
  },
  {
   "cell_type": "code",
   "execution_count": 12,
   "metadata": {},
   "outputs": [
    {
     "data": {
      "text/plain": [
       "DecisionTreeRegressor(max_depth=3)"
      ]
     },
     "execution_count": 12,
     "metadata": {},
     "output_type": "execute_result"
    }
   ],
   "source": [
    "regtree.fit(X_train, y_train)"
   ]
  },
  {
   "cell_type": "markdown",
   "metadata": {},
   "source": [
    "### Predict values using trained model"
   ]
  },
  {
   "cell_type": "code",
   "execution_count": 13,
   "metadata": {},
   "outputs": [],
   "source": [
    "y_train_pred = regtree.predict(X_train)\n",
    "y_test_pred = regtree.predict(X_test)"
   ]
  },
  {
   "cell_type": "markdown",
   "metadata": {},
   "source": [
    "### Model Performance"
   ]
  },
  {
   "cell_type": "code",
   "execution_count": 14,
   "metadata": {},
   "outputs": [],
   "source": [
    "from sklearn.metrics import mean_squared_error, r2_score"
   ]
  },
  {
   "cell_type": "code",
   "execution_count": 15,
   "metadata": {},
   "outputs": [
    {
     "data": {
      "text/plain": [
       "111364081.74002264"
      ]
     },
     "execution_count": 15,
     "metadata": {},
     "output_type": "execute_result"
    }
   ],
   "source": [
    "mean_squared_error(y_test, y_test_pred)"
   ]
  },
  {
   "cell_type": "code",
   "execution_count": 16,
   "metadata": {},
   "outputs": [
    {
     "data": {
      "text/plain": [
       "0.8364651040556869"
      ]
     },
     "execution_count": 16,
     "metadata": {},
     "output_type": "execute_result"
    }
   ],
   "source": [
    "r2_score(y_train, y_train_pred)"
   ]
  },
  {
   "cell_type": "code",
   "execution_count": 17,
   "metadata": {},
   "outputs": [
    {
     "data": {
      "text/plain": [
       "0.6540678457568934"
      ]
     },
     "execution_count": 17,
     "metadata": {},
     "output_type": "execute_result"
    }
   ],
   "source": [
    "r2_score(y_test, y_test_pred)"
   ]
  },
  {
   "cell_type": "markdown",
   "metadata": {},
   "source": [
    "### Plotting a decision tree"
   ]
  },
  {
   "cell_type": "code",
   "execution_count": 23,
   "metadata": {},
   "outputs": [],
   "source": [
    "dot_data = tree.export_graphviz(regtree, out_file=None)"
   ]
  },
  {
   "cell_type": "code",
   "execution_count": 24,
   "metadata": {},
   "outputs": [],
   "source": [
    "from IPython.display import Image"
   ]
  },
  {
   "cell_type": "code",
   "execution_count": 25,
   "metadata": {},
   "outputs": [],
   "source": [
    "import pydotplus"
   ]
  },
  {
   "cell_type": "code",
   "execution_count": 26,
   "metadata": {},
   "outputs": [
    {
     "ename": "InvocationException",
     "evalue": "GraphViz's executables not found",
     "output_type": "error",
     "traceback": [
      "\u001b[1;31m---------------------------------------------------------------------------\u001b[0m",
      "\u001b[1;31mInvocationException\u001b[0m                       Traceback (most recent call last)",
      "\u001b[1;32m<ipython-input-26-b1f404b8e97c>\u001b[0m in \u001b[0;36m<module>\u001b[1;34m\u001b[0m\n\u001b[0;32m      1\u001b[0m \u001b[0mgraph\u001b[0m \u001b[1;33m=\u001b[0m \u001b[0mpydotplus\u001b[0m\u001b[1;33m.\u001b[0m\u001b[0mgraph_from_dot_data\u001b[0m\u001b[1;33m(\u001b[0m\u001b[0mdot_data\u001b[0m\u001b[1;33m)\u001b[0m\u001b[1;33m\u001b[0m\u001b[1;33m\u001b[0m\u001b[0m\n\u001b[1;32m----> 2\u001b[1;33m \u001b[0mImage\u001b[0m\u001b[1;33m(\u001b[0m\u001b[0mgraph\u001b[0m\u001b[1;33m.\u001b[0m\u001b[0mcreate_png\u001b[0m\u001b[1;33m(\u001b[0m\u001b[1;33m)\u001b[0m\u001b[1;33m)\u001b[0m\u001b[1;33m\u001b[0m\u001b[1;33m\u001b[0m\u001b[0m\n\u001b[0m",
      "\u001b[1;32m~\\anaconda3\\lib\\site-packages\\pydotplus\\graphviz.py\u001b[0m in \u001b[0;36m<lambda>\u001b[1;34m(f, prog)\u001b[0m\n\u001b[0;32m   1795\u001b[0m             self.__setattr__(\n\u001b[0;32m   1796\u001b[0m                 \u001b[1;34m'create_'\u001b[0m \u001b[1;33m+\u001b[0m \u001b[0mfrmt\u001b[0m\u001b[1;33m,\u001b[0m\u001b[1;33m\u001b[0m\u001b[1;33m\u001b[0m\u001b[0m\n\u001b[1;32m-> 1797\u001b[1;33m                 \u001b[1;32mlambda\u001b[0m \u001b[0mf\u001b[0m\u001b[1;33m=\u001b[0m\u001b[0mfrmt\u001b[0m\u001b[1;33m,\u001b[0m \u001b[0mprog\u001b[0m\u001b[1;33m=\u001b[0m\u001b[0mself\u001b[0m\u001b[1;33m.\u001b[0m\u001b[0mprog\u001b[0m\u001b[1;33m:\u001b[0m \u001b[0mself\u001b[0m\u001b[1;33m.\u001b[0m\u001b[0mcreate\u001b[0m\u001b[1;33m(\u001b[0m\u001b[0mformat\u001b[0m\u001b[1;33m=\u001b[0m\u001b[0mf\u001b[0m\u001b[1;33m,\u001b[0m \u001b[0mprog\u001b[0m\u001b[1;33m=\u001b[0m\u001b[0mprog\u001b[0m\u001b[1;33m)\u001b[0m\u001b[1;33m\u001b[0m\u001b[1;33m\u001b[0m\u001b[0m\n\u001b[0m\u001b[0;32m   1798\u001b[0m             )\n\u001b[0;32m   1799\u001b[0m             \u001b[0mf\u001b[0m \u001b[1;33m=\u001b[0m \u001b[0mself\u001b[0m\u001b[1;33m.\u001b[0m\u001b[0m__dict__\u001b[0m\u001b[1;33m[\u001b[0m\u001b[1;34m'create_'\u001b[0m \u001b[1;33m+\u001b[0m \u001b[0mfrmt\u001b[0m\u001b[1;33m]\u001b[0m\u001b[1;33m\u001b[0m\u001b[1;33m\u001b[0m\u001b[0m\n",
      "\u001b[1;32m~\\anaconda3\\lib\\site-packages\\pydotplus\\graphviz.py\u001b[0m in \u001b[0;36mcreate\u001b[1;34m(self, prog, format)\u001b[0m\n\u001b[0;32m   1957\u001b[0m             \u001b[0mself\u001b[0m\u001b[1;33m.\u001b[0m\u001b[0mprogs\u001b[0m \u001b[1;33m=\u001b[0m \u001b[0mfind_graphviz\u001b[0m\u001b[1;33m(\u001b[0m\u001b[1;33m)\u001b[0m\u001b[1;33m\u001b[0m\u001b[1;33m\u001b[0m\u001b[0m\n\u001b[0;32m   1958\u001b[0m             \u001b[1;32mif\u001b[0m \u001b[0mself\u001b[0m\u001b[1;33m.\u001b[0m\u001b[0mprogs\u001b[0m \u001b[1;32mis\u001b[0m \u001b[1;32mNone\u001b[0m\u001b[1;33m:\u001b[0m\u001b[1;33m\u001b[0m\u001b[1;33m\u001b[0m\u001b[0m\n\u001b[1;32m-> 1959\u001b[1;33m                 raise InvocationException(\n\u001b[0m\u001b[0;32m   1960\u001b[0m                     'GraphViz\\'s executables not found')\n\u001b[0;32m   1961\u001b[0m \u001b[1;33m\u001b[0m\u001b[0m\n",
      "\u001b[1;31mInvocationException\u001b[0m: GraphViz's executables not found"
     ]
    }
   ],
   "source": [
    "graph = pydotplus.graph_from_dot_data(dot_data)\n",
    "Image(graph.create_png())"
   ]
  },
  {
   "cell_type": "code",
   "execution_count": null,
   "metadata": {},
   "outputs": [],
   "source": []
  }
 ],
 "metadata": {
  "kernelspec": {
   "display_name": "Python 3",
   "language": "python",
   "name": "python3"
  },
  "language_info": {
   "codemirror_mode": {
    "name": "ipython",
    "version": 3
   },
   "file_extension": ".py",
   "mimetype": "text/x-python",
   "name": "python",
   "nbconvert_exporter": "python",
   "pygments_lexer": "ipython3",
   "version": "3.8.5"
  }
 },
 "nbformat": 4,
 "nbformat_minor": 2
}
